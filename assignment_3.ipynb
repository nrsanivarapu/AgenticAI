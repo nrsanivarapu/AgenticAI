{
 "cells": [
  {
   "cell_type": "markdown",
   "id": "9b93a0ba",
   "metadata": {},
   "source": [
    "Assignment-3\n"
   ]
  },
  {
   "cell_type": "markdown",
   "id": "53238310",
   "metadata": {},
   "source": [
    "Assignment:\n",
    "    \n",
    "AI Travel Agent & Expense Planner(Purpose: Trip planning for any city worldwide with Realtime data.\")\n",
    "\n",
    "• Real-time weather information\n",
    "• Top attractions and activities\n",
    "• Hotel cost calculation (per day × total days)\n",
    "• Currency conversion to user's native currency\n",
    "• Complete itinerary generation\n",
    "• Total expense calculation\n",
    "• generate a summary of the entire output\n",
    "\n",
    "user_input\n",
    "  |\n",
    "search attraction and activity\n",
    "1. search attracation\n",
    "2. search restaurant\n",
    "3. search activity\n",
    "4. search transportation\n",
    "  |\n",
    "search weather forcasting\n",
    "1. get current weather\n",
    "2. get weather forcast\n",
    "  |\n",
    "search hotel costs\n",
    "1. search hotel\n",
    "2. estimate the hotel cost\n",
    "3. budget_range\n",
    "  |\n",
    "calculate total cost\n",
    "1. add\n",
    "2. multiply\n",
    "3. calculated total cost\n",
    "4. calcualte the daily budget\n",
    "    | \n",
    "currency_converion\n",
    "1. get exchnage rate\n",
    "2. convert currancy\n",
    "    | \n",
    "Itinery generation\n",
    "1. get day plan\n",
    "2. crete full itinery\n",
    "    |\n",
    "create Trip Summary\n",
    "    |\n",
    "Retun complete traval plan\n",
    "\n",
    "Note: if you know the OOPS then design this entire system using object and class in modular fashion.\n",
    "\n",
    "\n",
    "\n",
    "\n",
    "\n",
    " everyone you can submit the assignments in this form. MAke sure to have one GitHub link and put all the assignments there https://forms.gle/g8RZ4qx8yvNcih4B7    \n",
    "    "
   ]
  },
  {
   "cell_type": "code",
   "execution_count": 5,
   "id": "11db2895",
   "metadata": {},
   "outputs": [],
   "source": [
    "from dotenv import load_dotenv\n",
    "load_dotenv()\n",
    "import os\n",
    "os.environ['GROQ_API_KEY'] = os.getenv(\"GROQ_API_KEY\")"
   ]
  },
  {
   "cell_type": "code",
   "execution_count": 6,
   "id": "3e083f96",
   "metadata": {},
   "outputs": [],
   "source": [
    "model=\"deepseek-r1-distill-llama-70b\""
   ]
  },
  {
   "cell_type": "code",
   "execution_count": 11,
   "id": "17a85e1a",
   "metadata": {},
   "outputs": [
    {
     "name": "stdout",
     "output_type": "stream",
     "text": [
      "Prompt: What is the capital of France?\n",
      "Response: <think>\n",
      "\n",
      "</think>\n",
      "\n",
      "The capital of France is Paris.\n"
     ]
    }
   ],
   "source": [
    "from langchain_groq import ChatGroq\n",
    "\n",
    "llm=ChatGroq(model_name=model)\n",
    "def generate_response(prompt):\n",
    "    response = llm.invoke(prompt)\n",
    "    return response\n",
    "\n",
    "if __name__ == \"__main__\":\n",
    "    prompt = \"What is the capital of France?\"\n",
    "    response = generate_response(prompt)\n",
    "    print(f\"Prompt: {prompt}\")\n",
    "    print(f\"Response: {response.content}\")\n",
    "\n",
    "    \n"
   ]
  },
  {
   "cell_type": "code",
   "execution_count": 17,
   "id": "a4e1a3e5",
   "metadata": {},
   "outputs": [],
   "source": [
    "from langgraph.graph import StateGraph, END\n",
    "#from langgraph.checkpoint import MemorySaver\n",
    "from typing import TypedDict, List\n",
    "\n",
    "# Step 1: Define the State\n",
    "class TravelState(TypedDict):\n",
    "    city: str\n",
    "    days: int\n",
    "    user_currency: str\n",
    "    weather_info: str\n",
    "    attractions: List[str]\n",
    "    restaurants: List[str]\n",
    "    activities: List[str]\n",
    "    transportation: List[str]\n",
    "    hotel_cost_per_day: float\n",
    "    total_hotel_cost: float\n",
    "    exchange_rate: float\n",
    "    itinerary: List[dict]\n",
    "    total_expense: float\n",
    "    summary: str\n",
    "\n",
    "# Step 2: Define Node Functions\n",
    "def get_weather(state: TravelState) -> TravelState:\n",
    "    state[\"weather_info\"] = f\"Sunny, 25°C in {state['city']}\"  # Placeholder or real API\n",
    "    return state\n",
    "\n",
    "def search_attractions(state: TravelState) -> TravelState:\n",
    "    state[\"attractions\"] = [\"Central Park\", \"Museum of Art\", \"Historic Old Town\"]\n",
    "    return state\n",
    "\n",
    "def search_restaurants(state: TravelState) -> TravelState:\n",
    "    state[\"restaurants\"] = [\"The Fancy Spoon\", \"City Diner\", \"Pizza Palace\"]\n",
    "    return state\n",
    "\n",
    "def search_activities(state: TravelState) -> TravelState:\n",
    "    state[\"activities\"] = [\"City Walking Tour\", \"Boat Ride\", \"Cooking Class\"]\n",
    "    return state\n",
    "\n",
    "def search_transportation(state: TravelState) -> TravelState:\n",
    "    state[\"transportation\"] = [\"Metro\", \"Taxi\", \"Bike Rental\"]\n",
    "    return state\n",
    "\n",
    "def estimate_hotel(state: TravelState) -> TravelState:\n",
    "    cost_per_day = 100  # Placeholder\n",
    "    state[\"hotel_cost_per_day\"] = cost_per_day\n",
    "    state[\"total_hotel_cost\"] = cost_per_day * state[\"days\"]\n",
    "    return state\n",
    "\n",
    "def calculate_expense(state: TravelState) -> TravelState:\n",
    "    daily_budget = 75\n",
    "    state[\"total_expense\"] = (daily_budget * state[\"days\"]) + state[\"total_hotel_cost\"]\n",
    "    return state\n",
    "\n",
    "def generate_itinerary(state: TravelState) -> TravelState:\n",
    "    itinerary = []\n",
    "    for i in range(state[\"days\"]):\n",
    "        day_plan = {\n",
    "            \"day\": i + 1,\n",
    "            \"plan\": f\"Visit {state['attractions'][i % len(state['attractions'])]}, \"\n",
    "                    f\"eat at {state['restaurants'][i % len(state['restaurants'])]}, \"\n",
    "                    f\"do {state['activities'][i % len(state['activities'])]}\"\n",
    "        }\n",
    "        itinerary.append(day_plan)\n",
    "    state[\"itinerary\"] = itinerary\n",
    "    return state\n",
    "\n",
    "def generate_summary(state: TravelState) -> TravelState:\n",
    "    summary = (\n",
    "        f\"Trip to {state['city']} for {state['days']} days.\\n\"\n",
    "        f\"Weather: {state['weather_info']}\\n\"\n",
    "        f\"Top Attractions: {', '.join(state['attractions'])}\\n\"\n",
    "        f\"Restaurants: {', '.join(state['restaurants'])}\\n\"\n",
    "        f\"Activities: {', '.join(state['activities'])}\\n\"\n",
    "        f\"Hotel Cost: {state['total_hotel_cost']} ({state['user_currency']})\\n\"\n",
    "        f\"Total Expense: {state['total_expense']} ({state['user_currency']})\\n\"\n",
    "        f\"Itinerary: {state['itinerary']}\\n\"\n",
    "    )\n",
    "    state[\"summary\"] = summary\n",
    "    return state\n"
   ]
  },
  {
   "cell_type": "code",
   "execution_count": 18,
   "id": "3af0709f",
   "metadata": {},
   "outputs": [],
   "source": [
    "# Step 3: Build LangGraph Flow\n",
    "builder = StateGraph(TravelState)\n",
    "\n",
    "# Register each node\n",
    "builder.add_node(\"get_weather\", get_weather)\n",
    "builder.add_node(\"search_attractions\", search_attractions)\n",
    "builder.add_node(\"search_restaurants\", search_restaurants)\n",
    "builder.add_node(\"search_activities\", search_activities)\n",
    "builder.add_node(\"search_transportation\", search_transportation)\n",
    "builder.add_node(\"estimate_hotel\", estimate_hotel)\n",
    "builder.add_node(\"calculate_expense\", calculate_expense)\n",
    "builder.add_node(\"generate_itinerary\", generate_itinerary)\n",
    "builder.add_node(\"generate_summary\", generate_summary)\n",
    "\n",
    "# Set up edges\n",
    "builder.set_entry_point(\"get_weather\")\n",
    "builder.add_edge(\"get_weather\", \"search_attractions\")\n",
    "builder.add_edge(\"search_attractions\", \"search_restaurants\")\n",
    "builder.add_edge(\"search_restaurants\", \"search_activities\")\n",
    "builder.add_edge(\"search_activities\", \"search_transportation\")\n",
    "builder.add_edge(\"search_transportation\", \"estimate_hotel\")\n",
    "builder.add_edge(\"estimate_hotel\", \"calculate_expense\")\n",
    "builder.add_edge(\"calculate_expense\", \"generate_itinerary\")\n",
    "builder.add_edge(\"generate_itinerary\", \"generate_summary\")\n",
    "builder.add_edge(\"generate_summary\", END)\n",
    "\n",
    "# Compile the graph\n",
    "graph = builder.compile()\n"
   ]
  },
  {
   "cell_type": "code",
   "execution_count": 20,
   "id": "86ca883c",
   "metadata": {},
   "outputs": [
    {
     "data": {
      "image/png": "[encoded data removed]",
      "text/plain": [
       "<IPython.core.display.Image object>"
      ]
     },
     "metadata": {},
     "output_type": "display_data"
    }
   ],
   "source": [
    "from IPython.display import Image, display\n",
    "display(Image(graph.get_graph().draw_mermaid_png()))"
   ]
  },
  {
   "cell_type": "code",
   "execution_count": 21,
   "id": "08f215fc",
   "metadata": {},
   "outputs": [
    {
     "name": "stdout",
     "output_type": "stream",
     "text": [
      "Trip to Paris for 3 days.\n",
      "Weather: Sunny, 25°C in Paris\n",
      "Top Attractions: Central Park, Museum of Art, Historic Old Town\n",
      "Restaurants: The Fancy Spoon, City Diner, Pizza Palace\n",
      "Activities: City Walking Tour, Boat Ride, Cooking Class\n",
      "Hotel Cost: 300 (EUR)\n",
      "Total Expense: 525 (EUR)\n",
      "Itinerary: [{'day': 1, 'plan': 'Visit Central Park, eat at The Fancy Spoon, do City Walking Tour'}, {'day': 2, 'plan': 'Visit Museum of Art, eat at City Diner, do Boat Ride'}, {'day': 3, 'plan': 'Visit Historic Old Town, eat at Pizza Palace, do Cooking Class'}]\n",
      "\n"
     ]
    }
   ],
   "source": [
    "# Sample state input\n",
    "input_state = {\n",
    "    \"city\": \"Paris\",\n",
    "    \"days\": 3,\n",
    "    \"user_currency\": \"EUR\",\n",
    "    \"weather_info\": \"\",\n",
    "    \"attractions\": [],\n",
    "    \"restaurants\": [],\n",
    "    \"activities\": [],\n",
    "    \"transportation\": [],\n",
    "    \"hotel_cost_per_day\": 0,\n",
    "    \"total_hotel_cost\": 0,\n",
    "    \"exchange_rate\": 1.0,\n",
    "    \"itinerary\": [],\n",
    "    \"total_expense\": 0,\n",
    "    \"summary\": \"\"\n",
    "}\n",
    "\n",
    "# Run the graph\n",
    "final_state = graph.invoke(input_state)\n",
    "\n",
    "print(final_state[\"summary\"])\n"
   ]
  }
 ],
 "metadata": {
  "kernelspec": {
   "display_name": "my-agentic-env",
   "language": "python",
   "name": "python3"
  },
  "language_info": {
   "codemirror_mode": {
    "name": "ipython",
    "version": 3
   },
   "file_extension": ".py",
   "mimetype": "text/x-python",
   "name": "python",
   "nbconvert_exporter": "python",
   "pygments_lexer": "ipython3",
   "version": "3.12.4"
  }
 },
 "nbformat": 4,
 "nbformat_minor": 5
}
